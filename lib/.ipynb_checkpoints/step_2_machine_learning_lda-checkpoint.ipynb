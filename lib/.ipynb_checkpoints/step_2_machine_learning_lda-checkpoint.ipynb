{
 "cells": [
  {
   "cell_type": "markdown",
   "metadata": {},
   "source": [
    "### Import Packages"
   ]
  },
  {
   "cell_type": "code",
   "execution_count": 1,
   "metadata": {},
   "outputs": [],
   "source": [
    "# Import packages\n",
    "import re\n",
    "import glob\n",
    "import numpy as np\n",
    "import pandas as pd\n",
    "import seaborn as sns\n",
    "import matplotlib.pyplot as plt\n",
    "%matplotlib inline\n",
    "\n",
    "# Import Sci-Kit Learn\n",
    "from sklearn.manifold import TSNE\n",
    "from sklearn.cluster import KMeans\n",
    "from sklearn.decomposition import PCA\n",
    "from sklearn.preprocessing import StandardScaler\n",
    "from sklearn.discriminant_analysis import LinearDiscriminantAnalysis\n",
    "\n",
    "# Import module\n",
    "from lib.cluster import kmeans, find_best_cluster, feature_importance, plot_kmeans_cluster"
   ]
  },
  {
   "cell_type": "markdown",
   "metadata": {},
   "source": [
    " "
   ]
  },
  {
   "cell_type": "code",
   "execution_count": 2,
   "metadata": {},
   "outputs": [],
   "source": []
  },
  {
   "cell_type": "markdown",
   "metadata": {},
   "source": [
    "### Import Data"
   ]
  },
  {
   "cell_type": "code",
   "execution_count": 3,
   "metadata": {},
   "outputs": [],
   "source": [
    "file_loc = \"stats_14-17.csv\""
   ]
  },
  {
   "cell_type": "code",
   "execution_count": 4,
   "metadata": {},
   "outputs": [
    {
     "data": {
      "text/html": [
       "<div>\n",
       "<style scoped>\n",
       "    .dataframe tbody tr th:only-of-type {\n",
       "        vertical-align: middle;\n",
       "    }\n",
       "\n",
       "    .dataframe tbody tr th {\n",
       "        vertical-align: top;\n",
       "    }\n",
       "\n",
       "    .dataframe thead th {\n",
       "        text-align: right;\n",
       "    }\n",
       "</style>\n",
       "<table border=\"1\" class=\"dataframe\">\n",
       "  <thead>\n",
       "    <tr style=\"text-align: right;\">\n",
       "      <th></th>\n",
       "      <th>Unnamed: 0</th>\n",
       "      <th>Status</th>\n",
       "      <th>Player</th>\n",
       "      <th>Pos</th>\n",
       "      <th>Player_ID</th>\n",
       "      <th>url</th>\n",
       "      <th>G</th>\n",
       "      <th>MP</th>\n",
       "      <th>PER</th>\n",
       "      <th>TS%</th>\n",
       "      <th>...</th>\n",
       "      <th>DRB_100</th>\n",
       "      <th>TRB_100</th>\n",
       "      <th>AST_100</th>\n",
       "      <th>STL_100</th>\n",
       "      <th>BLK_100</th>\n",
       "      <th>TOV_100</th>\n",
       "      <th>PF_100</th>\n",
       "      <th>PTS_100</th>\n",
       "      <th>ORtg</th>\n",
       "      <th>DRtg</th>\n",
       "    </tr>\n",
       "  </thead>\n",
       "  <tbody>\n",
       "    <tr>\n",
       "      <td>0</td>\n",
       "      <td>0</td>\n",
       "      <td>Inactive</td>\n",
       "      <td>A.J. Price</td>\n",
       "      <td>PG</td>\n",
       "      <td>priceaj01</td>\n",
       "      <td>file:///Users/alexcheng/Downloads/us.sitesucke...</td>\n",
       "      <td>261</td>\n",
       "      <td>3929</td>\n",
       "      <td>12.2</td>\n",
       "      <td>0.486</td>\n",
       "      <td>...</td>\n",
       "      <td>4.0</td>\n",
       "      <td>4.9</td>\n",
       "      <td>7.4</td>\n",
       "      <td>1.6</td>\n",
       "      <td>0.1</td>\n",
       "      <td>3.0</td>\n",
       "      <td>3.1</td>\n",
       "      <td>19.8</td>\n",
       "      <td>100</td>\n",
       "      <td>108</td>\n",
       "    </tr>\n",
       "    <tr>\n",
       "      <td>1</td>\n",
       "      <td>1</td>\n",
       "      <td>Active</td>\n",
       "      <td>Aaron Brooks</td>\n",
       "      <td>PG</td>\n",
       "      <td>brookaa01</td>\n",
       "      <td>file:///Users/alexcheng/Downloads/us.sitesucke...</td>\n",
       "      <td>594</td>\n",
       "      <td>13016</td>\n",
       "      <td>13.5</td>\n",
       "      <td>0.525</td>\n",
       "      <td>...</td>\n",
       "      <td>3.2</td>\n",
       "      <td>4.1</td>\n",
       "      <td>7.4</td>\n",
       "      <td>1.4</td>\n",
       "      <td>0.3</td>\n",
       "      <td>3.8</td>\n",
       "      <td>4.6</td>\n",
       "      <td>24.0</td>\n",
       "      <td>104</td>\n",
       "      <td>110</td>\n",
       "    </tr>\n",
       "    <tr>\n",
       "      <td>2</td>\n",
       "      <td>2</td>\n",
       "      <td>Active</td>\n",
       "      <td>Aaron Gordon</td>\n",
       "      <td>SF</td>\n",
       "      <td>gordoaa01</td>\n",
       "      <td>file:///Users/alexcheng/Downloads/us.sitesucke...</td>\n",
       "      <td>182</td>\n",
       "      <td>4238</td>\n",
       "      <td>14.3</td>\n",
       "      <td>0.522</td>\n",
       "      <td>...</td>\n",
       "      <td>7.9</td>\n",
       "      <td>11.2</td>\n",
       "      <td>3.2</td>\n",
       "      <td>1.4</td>\n",
       "      <td>1.2</td>\n",
       "      <td>2.0</td>\n",
       "      <td>4.2</td>\n",
       "      <td>18.9</td>\n",
       "      <td>107</td>\n",
       "      <td>108</td>\n",
       "    </tr>\n",
       "    <tr>\n",
       "      <td>3</td>\n",
       "      <td>3</td>\n",
       "      <td>Active</td>\n",
       "      <td>Aaron Harrison</td>\n",
       "      <td>SG</td>\n",
       "      <td>harriaa01</td>\n",
       "      <td>file:///Users/alexcheng/Downloads/us.sitesucke...</td>\n",
       "      <td>26</td>\n",
       "      <td>110</td>\n",
       "      <td>3.3</td>\n",
       "      <td>0.326</td>\n",
       "      <td>...</td>\n",
       "      <td>6.4</td>\n",
       "      <td>8.2</td>\n",
       "      <td>2.3</td>\n",
       "      <td>2.7</td>\n",
       "      <td>0.0</td>\n",
       "      <td>1.8</td>\n",
       "      <td>5.5</td>\n",
       "      <td>8.7</td>\n",
       "      <td>73</td>\n",
       "      <td>104</td>\n",
       "    </tr>\n",
       "    <tr>\n",
       "      <td>4</td>\n",
       "      <td>4</td>\n",
       "      <td>Active</td>\n",
       "      <td>Adreian Payne</td>\n",
       "      <td>PF</td>\n",
       "      <td>paynead01</td>\n",
       "      <td>file:///Users/alexcheng/Downloads/us.sitesucke...</td>\n",
       "      <td>96</td>\n",
       "      <td>1317</td>\n",
       "      <td>7.4</td>\n",
       "      <td>0.444</td>\n",
       "      <td>...</td>\n",
       "      <td>8.4</td>\n",
       "      <td>11.3</td>\n",
       "      <td>2.4</td>\n",
       "      <td>1.5</td>\n",
       "      <td>0.9</td>\n",
       "      <td>3.3</td>\n",
       "      <td>7.2</td>\n",
       "      <td>15.1</td>\n",
       "      <td>87</td>\n",
       "      <td>110</td>\n",
       "    </tr>\n",
       "    <tr>\n",
       "      <td>...</td>\n",
       "      <td>...</td>\n",
       "      <td>...</td>\n",
       "      <td>...</td>\n",
       "      <td>...</td>\n",
       "      <td>...</td>\n",
       "      <td>...</td>\n",
       "      <td>...</td>\n",
       "      <td>...</td>\n",
       "      <td>...</td>\n",
       "      <td>...</td>\n",
       "      <td>...</td>\n",
       "      <td>...</td>\n",
       "      <td>...</td>\n",
       "      <td>...</td>\n",
       "      <td>...</td>\n",
       "      <td>...</td>\n",
       "      <td>...</td>\n",
       "      <td>...</td>\n",
       "      <td>...</td>\n",
       "      <td>...</td>\n",
       "      <td>...</td>\n",
       "    </tr>\n",
       "    <tr>\n",
       "      <td>659</td>\n",
       "      <td>659</td>\n",
       "      <td>Active</td>\n",
       "      <td>Yogi Ferrell</td>\n",
       "      <td>PG</td>\n",
       "      <td>ferreyo01</td>\n",
       "      <td>file:///Users/alexcheng/Downloads/us.sitesucke...</td>\n",
       "      <td>20</td>\n",
       "      <td>481</td>\n",
       "      <td>13.7</td>\n",
       "      <td>0.559</td>\n",
       "      <td>...</td>\n",
       "      <td>3.6</td>\n",
       "      <td>4.4</td>\n",
       "      <td>6.7</td>\n",
       "      <td>1.9</td>\n",
       "      <td>0.4</td>\n",
       "      <td>3.4</td>\n",
       "      <td>3.7</td>\n",
       "      <td>20.6</td>\n",
       "      <td>107</td>\n",
       "      <td>112</td>\n",
       "    </tr>\n",
       "    <tr>\n",
       "      <td>660</td>\n",
       "      <td>660</td>\n",
       "      <td>Active</td>\n",
       "      <td>Zach LaVine</td>\n",
       "      <td>SG</td>\n",
       "      <td>lavinza01</td>\n",
       "      <td>file:///Users/alexcheng/Downloads/us.sitesucke...</td>\n",
       "      <td>206</td>\n",
       "      <td>5945</td>\n",
       "      <td>13.4</td>\n",
       "      <td>0.547</td>\n",
       "      <td>...</td>\n",
       "      <td>4.5</td>\n",
       "      <td>5.1</td>\n",
       "      <td>5.7</td>\n",
       "      <td>1.4</td>\n",
       "      <td>0.3</td>\n",
       "      <td>3.7</td>\n",
       "      <td>3.9</td>\n",
       "      <td>24.0</td>\n",
       "      <td>103</td>\n",
       "      <td>114</td>\n",
       "    </tr>\n",
       "    <tr>\n",
       "      <td>661</td>\n",
       "      <td>661</td>\n",
       "      <td>Active</td>\n",
       "      <td>Zach Randolph</td>\n",
       "      <td>PF</td>\n",
       "      <td>randoza01</td>\n",
       "      <td>file:///Users/alexcheng/Downloads/us.sitesucke...</td>\n",
       "      <td>1034</td>\n",
       "      <td>32537</td>\n",
       "      <td>19.5</td>\n",
       "      <td>0.523</td>\n",
       "      <td>...</td>\n",
       "      <td>10.6</td>\n",
       "      <td>15.7</td>\n",
       "      <td>3.1</td>\n",
       "      <td>1.3</td>\n",
       "      <td>0.5</td>\n",
       "      <td>3.5</td>\n",
       "      <td>4.0</td>\n",
       "      <td>28.4</td>\n",
       "      <td>106</td>\n",
       "      <td>106</td>\n",
       "    </tr>\n",
       "    <tr>\n",
       "      <td>662</td>\n",
       "      <td>662</td>\n",
       "      <td>Active</td>\n",
       "      <td>Zaza Pachulia</td>\n",
       "      <td>C</td>\n",
       "      <td>pachuza01</td>\n",
       "      <td>file:///Users/alexcheng/Downloads/us.sitesucke...</td>\n",
       "      <td>936</td>\n",
       "      <td>19966</td>\n",
       "      <td>14.4</td>\n",
       "      <td>0.537</td>\n",
       "      <td>...</td>\n",
       "      <td>9.1</td>\n",
       "      <td>14.7</td>\n",
       "      <td>3.1</td>\n",
       "      <td>1.8</td>\n",
       "      <td>0.9</td>\n",
       "      <td>3.4</td>\n",
       "      <td>6.3</td>\n",
       "      <td>17.4</td>\n",
       "      <td>108</td>\n",
       "      <td>105</td>\n",
       "    </tr>\n",
       "    <tr>\n",
       "      <td>663</td>\n",
       "      <td>663</td>\n",
       "      <td>Inactive</td>\n",
       "      <td>Zoran Dragic</td>\n",
       "      <td>SG</td>\n",
       "      <td>dragizo01</td>\n",
       "      <td>file:///Users/alexcheng/Downloads/us.sitesucke...</td>\n",
       "      <td>16</td>\n",
       "      <td>75</td>\n",
       "      <td>8.2</td>\n",
       "      <td>0.435</td>\n",
       "      <td>...</td>\n",
       "      <td>2.1</td>\n",
       "      <td>5.6</td>\n",
       "      <td>3.5</td>\n",
       "      <td>1.4</td>\n",
       "      <td>0.0</td>\n",
       "      <td>3.5</td>\n",
       "      <td>4.2</td>\n",
       "      <td>19.5</td>\n",
       "      <td>89</td>\n",
       "      <td>112</td>\n",
       "    </tr>\n",
       "  </tbody>\n",
       "</table>\n",
       "<p>664 rows × 65 columns</p>\n",
       "</div>"
      ],
      "text/plain": [
       "     Unnamed: 0    Status          Player Pos  Player_ID  \\\n",
       "0             0  Inactive      A.J. Price  PG  priceaj01   \n",
       "1             1    Active    Aaron Brooks  PG  brookaa01   \n",
       "2             2    Active    Aaron Gordon  SF  gordoaa01   \n",
       "3             3    Active  Aaron Harrison  SG  harriaa01   \n",
       "4             4    Active   Adreian Payne  PF  paynead01   \n",
       "..          ...       ...             ...  ..        ...   \n",
       "659         659    Active    Yogi Ferrell  PG  ferreyo01   \n",
       "660         660    Active     Zach LaVine  SG  lavinza01   \n",
       "661         661    Active   Zach Randolph  PF  randoza01   \n",
       "662         662    Active   Zaza Pachulia   C  pachuza01   \n",
       "663         663  Inactive    Zoran Dragic  SG  dragizo01   \n",
       "\n",
       "                                                   url     G     MP   PER  \\\n",
       "0    file:///Users/alexcheng/Downloads/us.sitesucke...   261   3929  12.2   \n",
       "1    file:///Users/alexcheng/Downloads/us.sitesucke...   594  13016  13.5   \n",
       "2    file:///Users/alexcheng/Downloads/us.sitesucke...   182   4238  14.3   \n",
       "3    file:///Users/alexcheng/Downloads/us.sitesucke...    26    110   3.3   \n",
       "4    file:///Users/alexcheng/Downloads/us.sitesucke...    96   1317   7.4   \n",
       "..                                                 ...   ...    ...   ...   \n",
       "659  file:///Users/alexcheng/Downloads/us.sitesucke...    20    481  13.7   \n",
       "660  file:///Users/alexcheng/Downloads/us.sitesucke...   206   5945  13.4   \n",
       "661  file:///Users/alexcheng/Downloads/us.sitesucke...  1034  32537  19.5   \n",
       "662  file:///Users/alexcheng/Downloads/us.sitesucke...   936  19966  14.4   \n",
       "663  file:///Users/alexcheng/Downloads/us.sitesucke...    16     75   8.2   \n",
       "\n",
       "       TS%  ...  DRB_100  TRB_100  AST_100  STL_100  BLK_100  TOV_100  PF_100  \\\n",
       "0    0.486  ...      4.0      4.9      7.4      1.6      0.1      3.0     3.1   \n",
       "1    0.525  ...      3.2      4.1      7.4      1.4      0.3      3.8     4.6   \n",
       "2    0.522  ...      7.9     11.2      3.2      1.4      1.2      2.0     4.2   \n",
       "3    0.326  ...      6.4      8.2      2.3      2.7      0.0      1.8     5.5   \n",
       "4    0.444  ...      8.4     11.3      2.4      1.5      0.9      3.3     7.2   \n",
       "..     ...  ...      ...      ...      ...      ...      ...      ...     ...   \n",
       "659  0.559  ...      3.6      4.4      6.7      1.9      0.4      3.4     3.7   \n",
       "660  0.547  ...      4.5      5.1      5.7      1.4      0.3      3.7     3.9   \n",
       "661  0.523  ...     10.6     15.7      3.1      1.3      0.5      3.5     4.0   \n",
       "662  0.537  ...      9.1     14.7      3.1      1.8      0.9      3.4     6.3   \n",
       "663  0.435  ...      2.1      5.6      3.5      1.4      0.0      3.5     4.2   \n",
       "\n",
       "     PTS_100  ORtg  DRtg  \n",
       "0       19.8   100   108  \n",
       "1       24.0   104   110  \n",
       "2       18.9   107   108  \n",
       "3        8.7    73   104  \n",
       "4       15.1    87   110  \n",
       "..       ...   ...   ...  \n",
       "659     20.6   107   112  \n",
       "660     24.0   103   114  \n",
       "661     28.4   106   106  \n",
       "662     17.4   108   105  \n",
       "663     19.5    89   112  \n",
       "\n",
       "[664 rows x 65 columns]"
      ]
     },
     "execution_count": 4,
     "metadata": {},
     "output_type": "execute_result"
    }
   ],
   "source": [
    "data = pd.read_csv(file_loc)\n",
    "data"
   ]
  },
  {
   "cell_type": "code",
   "execution_count": 15,
   "metadata": {},
   "outputs": [
    {
     "data": {
      "text/plain": [
       "Index(['Unnamed: 0', 'Status', 'Player', 'Pos', 'Player_ID', 'url', 'G', 'MP',\n",
       "       'PER', 'TS%', '3PAr', 'FTr', 'ORB%', 'DRB%', 'TRB%', 'AST%', 'STL%',\n",
       "       'BLK%', 'TOV%', 'USG%', 'OBPM', 'DPM', 'BPM', 'FG%', 'AVG_DIST_FGA',\n",
       "       '%FGA_2P', '%FGA_0-3ft', '%FGA_3-10ft', '%FGA_10-16ft', '%FGA_16ft<3',\n",
       "       '%FGA_3P', '2P%', '0-3_FG%', '3-10_FG%', '10-16_FG%', '16<3_FG%', '3P%',\n",
       "       '%ASTd_2P', '%FGA_DUNK', '%ASTd_3P', '%_CORNER3PA', '3P%_CORNER3',\n",
       "       'FG_100', 'FGA_100', 'FG%_100', '3P_100', '3PA_100', '3P%_100',\n",
       "       '2P_100', '2PA_100', '2P%_100', 'FT_100', 'FTA_100', 'FT%_100',\n",
       "       'ORB_100', 'DRB_100', 'TRB_100', 'AST_100', 'STL_100', 'BLK_100',\n",
       "       'TOV_100', 'PF_100', 'PTS_100', 'ORtg', 'DRtg'],\n",
       "      dtype='object')"
      ]
     },
     "execution_count": 15,
     "metadata": {},
     "output_type": "execute_result"
    }
   ],
   "source": [
    "data.columns"
   ]
  },
  {
   "cell_type": "markdown",
   "metadata": {},
   "source": [
    " "
   ]
  },
  {
   "cell_type": "markdown",
   "metadata": {},
   "source": [
    "### Data Cleaning"
   ]
  },
  {
   "cell_type": "code",
   "execution_count": 5,
   "metadata": {},
   "outputs": [],
   "source": [
    "# Drop unwanted columns\n",
    "data = data.drop(['Unnamed: 0', 'MP', '3PAr'], axis=1)"
   ]
  },
  {
   "cell_type": "code",
   "execution_count": 6,
   "metadata": {},
   "outputs": [],
   "source": [
    "# Filter out players who have played less than 20 games\n",
    "data = data[data['G']>40]"
   ]
  },
  {
   "cell_type": "code",
   "execution_count": 7,
   "metadata": {},
   "outputs": [
    {
     "data": {
      "text/plain": [
       "(547, 62)"
      ]
     },
     "execution_count": 7,
     "metadata": {},
     "output_type": "execute_result"
    }
   ],
   "source": [
    "data.shape"
   ]
  },
  {
   "cell_type": "markdown",
   "metadata": {},
   "source": [
    " "
   ]
  },
  {
   "cell_type": "markdown",
   "metadata": {},
   "source": [
    "### Data Preprocessing"
   ]
  },
  {
   "cell_type": "code",
   "execution_count": 8,
   "metadata": {},
   "outputs": [],
   "source": [
    "X = data.drop(['Player', 'Pos', 'G', 'Player_ID','url', 'Status'], axis=1)\n",
    "y = data['Pos']"
   ]
  },
  {
   "cell_type": "code",
   "execution_count": 22,
   "metadata": {},
   "outputs": [
    {
     "data": {
      "text/plain": [
       "PF       118\n",
       "SG       111\n",
       "C        108\n",
       "SF       105\n",
       "PG       103\n",
       "SG-PG      1\n",
       "SG-SF      1\n",
       "Name: Pos, dtype: int64"
      ]
     },
     "execution_count": 22,
     "metadata": {},
     "output_type": "execute_result"
    }
   ],
   "source": [
    "y.value_counts()"
   ]
  },
  {
   "cell_type": "code",
   "execution_count": 12,
   "metadata": {},
   "outputs": [],
   "source": [
    "# Scale the data\n",
    "scaler = StandardScaler()\n",
    "X_scaled = scaler.fit_transform(X)"
   ]
  },
  {
   "cell_type": "markdown",
   "metadata": {},
   "source": [
    " "
   ]
  },
  {
   "cell_type": "markdown",
   "metadata": {},
   "source": [
    "### Dimensionality Reduction with PCA"
   ]
  },
  {
   "cell_type": "code",
   "execution_count": 23,
   "metadata": {},
   "outputs": [
    {
     "name": "stdout",
     "output_type": "stream",
     "text": [
      "Cumulative Explained Variance: 0.5445925864645511\n"
     ]
    }
   ],
   "source": [
    "pca = PCA(n_components=2)\n",
    "pca.fit(X_scaled)\n",
    "\n",
    "X_pca = pca.transform(X_scaled)\n",
    "print(\"Cumulative Explained Variance:\", pca.explained_variance_ratio_.sum())"
   ]
  },
  {
   "cell_type": "markdown",
   "metadata": {},
   "source": [
    " "
   ]
  },
  {
   "cell_type": "markdown",
   "metadata": {},
   "source": [
    "### Dimensionality Reduction with LDA, RDA, QDA"
   ]
  },
  {
   "cell_type": "code",
   "execution_count": 17,
   "metadata": {},
   "outputs": [],
   "source": [
    "LDA = LinearDiscriminantAnalysis(n_components=2, shrinkage='auto', solver='eigen')"
   ]
  },
  {
   "cell_type": "code",
   "execution_count": 18,
   "metadata": {},
   "outputs": [
    {
     "name": "stderr",
     "output_type": "stream",
     "text": [
      "C:\\Users\\ypaph\\AppData\\Local\\Continuum\\anaconda3\\lib\\site-packages\\sklearn\\covariance\\shrunk_covariance_.py:209: UserWarning: Only one sample available. You may want to reshape your data array\n",
      "  warnings.warn(\"Only one sample available. \"\n",
      "C:\\Users\\ypaph\\AppData\\Local\\Continuum\\anaconda3\\lib\\site-packages\\sklearn\\covariance\\empirical_covariance_.py:75: UserWarning: Only one sample available. You may want to reshape your data array\n",
      "  warnings.warn(\"Only one sample available. \"\n",
      "C:\\Users\\ypaph\\AppData\\Local\\Continuum\\anaconda3\\lib\\site-packages\\sklearn\\covariance\\shrunk_covariance_.py:209: UserWarning: Only one sample available. You may want to reshape your data array\n",
      "  warnings.warn(\"Only one sample available. \"\n",
      "C:\\Users\\ypaph\\AppData\\Local\\Continuum\\anaconda3\\lib\\site-packages\\sklearn\\covariance\\empirical_covariance_.py:75: UserWarning: Only one sample available. You may want to reshape your data array\n",
      "  warnings.warn(\"Only one sample available. \"\n"
     ]
    }
   ],
   "source": [
    "LDA_reduced_df = LDA.fit(X_scaled,y).transform(X_scaled)"
   ]
  },
  {
   "cell_type": "code",
   "execution_count": null,
   "metadata": {},
   "outputs": [],
   "source": []
  },
  {
   "cell_type": "code",
   "execution_count": 19,
   "metadata": {},
   "outputs": [
    {
     "data": {
      "text/plain": [
       "0.7458866544789763"
      ]
     },
     "execution_count": 19,
     "metadata": {},
     "output_type": "execute_result"
    }
   ],
   "source": [
    "LDA.score(X_scaled,y)"
   ]
  },
  {
   "cell_type": "markdown",
   "metadata": {},
   "source": [
    " "
   ]
  },
  {
   "cell_type": "markdown",
   "metadata": {},
   "source": [
    "### Find Best Cluster for KMeans Clustering"
   ]
  },
  {
   "cell_type": "code",
   "execution_count": 20,
   "metadata": {},
   "outputs": [
    {
     "name": "stdout",
     "output_type": "stream",
     "text": [
      "best silhouette score: 0.46431746779194294\n"
     ]
    },
    {
     "data": {
      "image/png": "[encoded data removed]",
      "text/plain": [
       "<Figure size 432x288 with 1 Axes>"
      ]
     },
     "metadata": {
      "needs_background": "light"
     },
     "output_type": "display_data"
    }
   ],
   "source": [
    "find_best_cluster(LDA_reduced_df,5,20)"
   ]
  },
  {
   "cell_type": "markdown",
   "metadata": {},
   "source": [
    " "
   ]
  },
  {
   "cell_type": "markdown",
   "metadata": {},
   "source": [
    "### KMeans Clustering"
   ]
  },
  {
   "cell_type": "code",
   "execution_count": 23,
   "metadata": {},
   "outputs": [],
   "source": [
    "kmeans = kmeans(LDA_reduced_df, 8)"
   ]
  },
  {
   "cell_type": "code",
   "execution_count": 26,
   "metadata": {},
   "outputs": [
    {
     "name": "stdout",
     "output_type": "stream",
     "text": [
      "silhouette score: 0.3876984157583898\n"
     ]
    }
   ],
   "source": [
    "# Assign labels\n",
    "data['Cluster'] = kmeans['labels']\n",
    "\n",
    "# Print silhouette score\n",
    "print(\"silhouette score:\", kmeans['silhouette_score'])"
   ]
  },
  {
   "cell_type": "markdown",
   "metadata": {},
   "source": [
    "#### Visualize the Scatter Plot"
   ]
  },
  {
   "cell_type": "code",
   "execution_count": 17,
   "metadata": {},
   "outputs": [],
   "source": [
    "# Target labels\n",
    "y = kmeans['labels']\n",
    "df = pd.DataFrame({'X1':LDA_reduced_df[:,0],'X2':LDA_reduced_df[:,1], 'labels':y})\n",
    "\n",
    "# # Graph with Seaborn\n",
    "# sns.set_context(\"poster\", font_scale=1)\n",
    "# graph = sns.lmplot('X1', 'X2', data=df, fit_reg=False, hue=\"labels\", size=10, palette=\"deep\", markers='s')"
   ]
  },
  {
   "cell_type": "code",
   "execution_count": 18,
   "metadata": {},
   "outputs": [
    {
     "data": {
      "image/png": "[encoded data removed]",
      "text/plain": [
       "<matplotlib.figure.Figure at 0x1027dc5d0>"
      ]
     },
     "metadata": {},
     "output_type": "display_data"
    }
   ],
   "source": [
    "plot_kmeans_cluster(LDA_reduced_df, k_clusters=8, plot_title=\"\"\"KMeans Clustering on NBA Players in 2014-2017\"\"\")"
   ]
  },
  {
   "cell_type": "markdown",
   "metadata": {},
   "source": [
    "#### Investigate Clusters"
   ]
  },
  {
   "cell_type": "code",
   "execution_count": 19,
   "metadata": {},
   "outputs": [
    {
     "data": {
      "text/html": [
       "<div>\n",
       "<table border=\"1\" class=\"dataframe\">\n",
       "  <thead>\n",
       "    <tr style=\"text-align: right;\">\n",
       "      <th></th>\n",
       "      <th>Status</th>\n",
       "      <th>Player</th>\n",
       "      <th>Pos</th>\n",
       "      <th>Player_ID</th>\n",
       "      <th>url</th>\n",
       "      <th>G</th>\n",
       "      <th>PER</th>\n",
       "      <th>TS%</th>\n",
       "      <th>FTr</th>\n",
       "      <th>ORB%</th>\n",
       "      <th>...</th>\n",
       "      <th>TRB_100</th>\n",
       "      <th>AST_100</th>\n",
       "      <th>STL_100</th>\n",
       "      <th>BLK_100</th>\n",
       "      <th>TOV_100</th>\n",
       "      <th>PF_100</th>\n",
       "      <th>PTS_100</th>\n",
       "      <th>ORtg</th>\n",
       "      <th>DRtg</th>\n",
       "      <th>Cluster</th>\n",
       "    </tr>\n",
       "  </thead>\n",
       "  <tbody>\n",
       "    <tr>\n",
       "      <th>0</th>\n",
       "      <td>Inactive</td>\n",
       "      <td>A.J. Price</td>\n",
       "      <td>PG</td>\n",
       "      <td>priceaj01</td>\n",
       "      <td>file:///Users/alexcheng/Downloads/us.sitesucke...</td>\n",
       "      <td>261</td>\n",
       "      <td>12.2</td>\n",
       "      <td>0.486</td>\n",
       "      <td>0.193</td>\n",
       "      <td>1.9</td>\n",
       "      <td>...</td>\n",
       "      <td>4.9</td>\n",
       "      <td>7.4</td>\n",
       "      <td>1.6</td>\n",
       "      <td>0.1</td>\n",
       "      <td>3.0</td>\n",
       "      <td>3.1</td>\n",
       "      <td>19.8</td>\n",
       "      <td>100</td>\n",
       "      <td>108</td>\n",
       "      <td>6</td>\n",
       "    </tr>\n",
       "    <tr>\n",
       "      <th>1</th>\n",
       "      <td>Active</td>\n",
       "      <td>Aaron Brooks</td>\n",
       "      <td>PG</td>\n",
       "      <td>brookaa01</td>\n",
       "      <td>file:///Users/alexcheng/Downloads/us.sitesucke...</td>\n",
       "      <td>594</td>\n",
       "      <td>13.5</td>\n",
       "      <td>0.525</td>\n",
       "      <td>0.201</td>\n",
       "      <td>2.1</td>\n",
       "      <td>...</td>\n",
       "      <td>4.1</td>\n",
       "      <td>7.4</td>\n",
       "      <td>1.4</td>\n",
       "      <td>0.3</td>\n",
       "      <td>3.8</td>\n",
       "      <td>4.6</td>\n",
       "      <td>24.0</td>\n",
       "      <td>104</td>\n",
       "      <td>110</td>\n",
       "      <td>6</td>\n",
       "    </tr>\n",
       "    <tr>\n",
       "      <th>2</th>\n",
       "      <td>Active</td>\n",
       "      <td>Aaron Gordon</td>\n",
       "      <td>SF</td>\n",
       "      <td>gordoaa01</td>\n",
       "      <td>file:///Users/alexcheng/Downloads/us.sitesucke...</td>\n",
       "      <td>182</td>\n",
       "      <td>14.3</td>\n",
       "      <td>0.522</td>\n",
       "      <td>0.290</td>\n",
       "      <td>7.1</td>\n",
       "      <td>...</td>\n",
       "      <td>11.2</td>\n",
       "      <td>3.2</td>\n",
       "      <td>1.4</td>\n",
       "      <td>1.2</td>\n",
       "      <td>2.0</td>\n",
       "      <td>4.2</td>\n",
       "      <td>18.9</td>\n",
       "      <td>107</td>\n",
       "      <td>108</td>\n",
       "      <td>3</td>\n",
       "    </tr>\n",
       "    <tr>\n",
       "      <th>4</th>\n",
       "      <td>Active</td>\n",
       "      <td>Adreian Payne</td>\n",
       "      <td>PF</td>\n",
       "      <td>paynead01</td>\n",
       "      <td>file:///Users/alexcheng/Downloads/us.sitesucke...</td>\n",
       "      <td>96</td>\n",
       "      <td>7.4</td>\n",
       "      <td>0.444</td>\n",
       "      <td>0.215</td>\n",
       "      <td>6.4</td>\n",
       "      <td>...</td>\n",
       "      <td>11.3</td>\n",
       "      <td>2.4</td>\n",
       "      <td>1.5</td>\n",
       "      <td>0.9</td>\n",
       "      <td>3.3</td>\n",
       "      <td>7.2</td>\n",
       "      <td>15.1</td>\n",
       "      <td>87</td>\n",
       "      <td>110</td>\n",
       "      <td>3</td>\n",
       "    </tr>\n",
       "    <tr>\n",
       "      <th>5</th>\n",
       "      <td>Active</td>\n",
       "      <td>Al Horford</td>\n",
       "      <td>C</td>\n",
       "      <td>horfoal01</td>\n",
       "      <td>file:///Users/alexcheng/Downloads/us.sitesucke...</td>\n",
       "      <td>623</td>\n",
       "      <td>19.0</td>\n",
       "      <td>0.568</td>\n",
       "      <td>0.216</td>\n",
       "      <td>8.0</td>\n",
       "      <td>...</td>\n",
       "      <td>13.6</td>\n",
       "      <td>4.5</td>\n",
       "      <td>1.3</td>\n",
       "      <td>1.9</td>\n",
       "      <td>2.5</td>\n",
       "      <td>3.7</td>\n",
       "      <td>22.3</td>\n",
       "      <td>114</td>\n",
       "      <td>104</td>\n",
       "      <td>7</td>\n",
       "    </tr>\n",
       "  </tbody>\n",
       "</table>\n",
       "<p>5 rows × 63 columns</p>\n",
       "</div>"
      ],
      "text/plain": [
       "     Status         Player Pos  Player_ID  \\\n",
       "0  Inactive     A.J. Price  PG  priceaj01   \n",
       "1    Active   Aaron Brooks  PG  brookaa01   \n",
       "2    Active   Aaron Gordon  SF  gordoaa01   \n",
       "4    Active  Adreian Payne  PF  paynead01   \n",
       "5    Active     Al Horford   C  horfoal01   \n",
       "\n",
       "                                                 url    G   PER    TS%    FTr  \\\n",
       "0  file:///Users/alexcheng/Downloads/us.sitesucke...  261  12.2  0.486  0.193   \n",
       "1  file:///Users/alexcheng/Downloads/us.sitesucke...  594  13.5  0.525  0.201   \n",
       "2  file:///Users/alexcheng/Downloads/us.sitesucke...  182  14.3  0.522  0.290   \n",
       "4  file:///Users/alexcheng/Downloads/us.sitesucke...   96   7.4  0.444  0.215   \n",
       "5  file:///Users/alexcheng/Downloads/us.sitesucke...  623  19.0  0.568  0.216   \n",
       "\n",
       "   ORB%   ...     TRB_100  AST_100  STL_100  BLK_100  TOV_100  PF_100  \\\n",
       "0   1.9   ...         4.9      7.4      1.6      0.1      3.0     3.1   \n",
       "1   2.1   ...         4.1      7.4      1.4      0.3      3.8     4.6   \n",
       "2   7.1   ...        11.2      3.2      1.4      1.2      2.0     4.2   \n",
       "4   6.4   ...        11.3      2.4      1.5      0.9      3.3     7.2   \n",
       "5   8.0   ...        13.6      4.5      1.3      1.9      2.5     3.7   \n",
       "\n",
       "   PTS_100  ORtg  DRtg  Cluster  \n",
       "0     19.8   100   108        6  \n",
       "1     24.0   104   110        6  \n",
       "2     18.9   107   108        3  \n",
       "4     15.1    87   110        3  \n",
       "5     22.3   114   104        7  \n",
       "\n",
       "[5 rows x 63 columns]"
      ]
     },
     "execution_count": 19,
     "metadata": {},
     "output_type": "execute_result"
    }
   ],
   "source": [
    "data.head()"
   ]
  },
  {
   "cell_type": "code",
   "execution_count": 20,
   "metadata": {},
   "outputs": [
    {
     "data": {
      "text/html": [
       "<div>\n",
       "<table border=\"1\" class=\"dataframe\">\n",
       "  <thead>\n",
       "    <tr style=\"text-align: right;\">\n",
       "      <th></th>\n",
       "      <th>Player</th>\n",
       "    </tr>\n",
       "  </thead>\n",
       "  <tbody>\n",
       "    <tr>\n",
       "      <th>5</th>\n",
       "      <td>Al Horford</td>\n",
       "    </tr>\n",
       "    <tr>\n",
       "      <th>6</th>\n",
       "      <td>Al Jefferson</td>\n",
       "    </tr>\n",
       "    <tr>\n",
       "      <th>19</th>\n",
       "      <td>Amar'e Stoudemire</td>\n",
       "    </tr>\n",
       "    <tr>\n",
       "      <th>36</th>\n",
       "      <td>Anthony Davis</td>\n",
       "    </tr>\n",
       "    <tr>\n",
       "      <th>52</th>\n",
       "      <td>Blake Griffin</td>\n",
       "    </tr>\n",
       "  </tbody>\n",
       "</table>\n",
       "</div>"
      ],
      "text/plain": [
       "               Player\n",
       "5          Al Horford\n",
       "6        Al Jefferson\n",
       "19  Amar'e Stoudemire\n",
       "36      Anthony Davis\n",
       "52      Blake Griffin"
      ]
     },
     "execution_count": 20,
     "metadata": {},
     "output_type": "execute_result"
    }
   ],
   "source": [
    "mask = (data['Cluster'] == 7)\n",
    "data[mask][['Player']].head()"
   ]
  },
  {
   "cell_type": "markdown",
   "metadata": {},
   "source": [
    " "
   ]
  },
  {
   "cell_type": "markdown",
   "metadata": {},
   "source": [
    "### Feature Importance for each Cluster"
   ]
  },
  {
   "cell_type": "code",
   "execution_count": 21,
   "metadata": {},
   "outputs": [
    {
     "data": {
      "text/html": [
       "<div>\n",
       "<table border=\"1\" class=\"dataframe\">\n",
       "  <thead>\n",
       "    <tr style=\"text-align: right;\">\n",
       "      <th></th>\n",
       "      <th>Feature</th>\n",
       "      <th>Importance</th>\n",
       "      <th>Cluster Average</th>\n",
       "      <th>League Average</th>\n",
       "    </tr>\n",
       "  </thead>\n",
       "  <tbody>\n",
       "    <tr>\n",
       "      <th>0</th>\n",
       "      <td>%FGA_0-3ft</td>\n",
       "      <td>0.213455</td>\n",
       "      <td>0.47137</td>\n",
       "      <td>0.335172</td>\n",
       "    </tr>\n",
       "    <tr>\n",
       "      <th>1</th>\n",
       "      <td>%FGA_DUNK</td>\n",
       "      <td>0.207810</td>\n",
       "      <td>0.14136</td>\n",
       "      <td>0.069234</td>\n",
       "    </tr>\n",
       "    <tr>\n",
       "      <th>2</th>\n",
       "      <td>2P%_100</td>\n",
       "      <td>0.179113</td>\n",
       "      <td>0.52728</td>\n",
       "      <td>0.485951</td>\n",
       "    </tr>\n",
       "    <tr>\n",
       "      <th>3</th>\n",
       "      <td>2P%</td>\n",
       "      <td>0.178917</td>\n",
       "      <td>0.52729</td>\n",
       "      <td>0.485967</td>\n",
       "    </tr>\n",
       "    <tr>\n",
       "      <th>4</th>\n",
       "      <td>PF_100</td>\n",
       "      <td>0.172278</td>\n",
       "      <td>5.82200</td>\n",
       "      <td>4.760512</td>\n",
       "    </tr>\n",
       "    <tr>\n",
       "      <th>5</th>\n",
       "      <td>FG%_100</td>\n",
       "      <td>0.170443</td>\n",
       "      <td>0.51155</td>\n",
       "      <td>0.454481</td>\n",
       "    </tr>\n",
       "    <tr>\n",
       "      <th>6</th>\n",
       "      <td>FG%</td>\n",
       "      <td>0.169973</td>\n",
       "      <td>0.51158</td>\n",
       "      <td>0.454477</td>\n",
       "    </tr>\n",
       "    <tr>\n",
       "      <th>7</th>\n",
       "      <td>ORtg</td>\n",
       "      <td>0.158227</td>\n",
       "      <td>111.68000</td>\n",
       "      <td>106.213894</td>\n",
       "    </tr>\n",
       "    <tr>\n",
       "      <th>8</th>\n",
       "      <td>%ASTd_2P</td>\n",
       "      <td>0.147013</td>\n",
       "      <td>0.68484</td>\n",
       "      <td>0.537998</td>\n",
       "    </tr>\n",
       "    <tr>\n",
       "      <th>9</th>\n",
       "      <td>TS%</td>\n",
       "      <td>0.136499</td>\n",
       "      <td>0.55599</td>\n",
       "      <td>0.533362</td>\n",
       "    </tr>\n",
       "  </tbody>\n",
       "</table>\n",
       "</div>"
      ],
      "text/plain": [
       "      Feature  Importance  Cluster Average  League Average\n",
       "0  %FGA_0-3ft    0.213455          0.47137        0.335172\n",
       "1   %FGA_DUNK    0.207810          0.14136        0.069234\n",
       "2     2P%_100    0.179113          0.52728        0.485951\n",
       "3         2P%    0.178917          0.52729        0.485967\n",
       "4      PF_100    0.172278          5.82200        4.760512\n",
       "5     FG%_100    0.170443          0.51155        0.454481\n",
       "6         FG%    0.169973          0.51158        0.454477\n",
       "7        ORtg    0.158227        111.68000      106.213894\n",
       "8    %ASTd_2P    0.147013          0.68484        0.537998\n",
       "9         TS%    0.136499          0.55599        0.533362"
      ]
     },
     "execution_count": 21,
     "metadata": {},
     "output_type": "execute_result"
    }
   ],
   "source": [
    "cluster_data = data[mask].drop(['Player', 'Pos', 'Cluster', 'url', 'Player_ID', 'Status'], axis=1)\n",
    "league_data = data.drop(['Player', 'Pos', 'Cluster', 'url', 'Player_ID', 'Status'], axis=1)\n",
    "\n",
    "feature_importance(cluster_data, league_data).reset_index().drop('index', axis=1)"
   ]
  },
  {
   "cell_type": "markdown",
   "metadata": {},
   "source": [
    " "
   ]
  },
  {
   "cell_type": "markdown",
   "metadata": {},
   "source": [
    "### Cluster Descriptions\n",
    "- Cluster 0: Defensive Centers\n",
    "- Cluster 1: 3-and-D Wings\n",
    "- Cluster 2: Scoring Wings\n",
    "- Cluster 3: Versatile Forwards\n",
    "- Cluster 4: Floor Generals\n",
    "- Cluster 5: Shooting Wings\n",
    "- Cluster 6: Combo Guards\n",
    "- Cluster 7: Offensive Centers"
   ]
  },
  {
   "cell_type": "markdown",
   "metadata": {
    "collapsed": true
   },
   "source": [
    "### Save to CSV"
   ]
  },
  {
   "cell_type": "code",
   "execution_count": 22,
   "metadata": {
    "collapsed": true
   },
   "outputs": [],
   "source": [
    "player_list = list(data['Player'])\n",
    "status_list = list(data['Status'])\n",
    "playerid_list = list(data['Player_ID'])\n",
    "url_list = list(data['url'])"
   ]
  },
  {
   "cell_type": "code",
   "execution_count": 23,
   "metadata": {},
   "outputs": [
    {
     "data": {
      "text/html": [
       "<div>\n",
       "<table border=\"1\" class=\"dataframe\">\n",
       "  <thead>\n",
       "    <tr style=\"text-align: right;\">\n",
       "      <th></th>\n",
       "      <th>X1</th>\n",
       "      <th>X2</th>\n",
       "      <th>labels</th>\n",
       "      <th>Player</th>\n",
       "      <th>Status</th>\n",
       "      <th>Player_ID</th>\n",
       "      <th>url</th>\n",
       "    </tr>\n",
       "  </thead>\n",
       "  <tbody>\n",
       "    <tr>\n",
       "      <th>0</th>\n",
       "      <td>-3.721358</td>\n",
       "      <td>0.734826</td>\n",
       "      <td>Combo Guards</td>\n",
       "      <td>A.J. Price</td>\n",
       "      <td>Inactive</td>\n",
       "      <td>priceaj01</td>\n",
       "      <td>file:///Users/alexcheng/Downloads/us.sitesucke...</td>\n",
       "    </tr>\n",
       "    <tr>\n",
       "      <th>1</th>\n",
       "      <td>-3.382158</td>\n",
       "      <td>1.127596</td>\n",
       "      <td>Combo Guards</td>\n",
       "      <td>Aaron Brooks</td>\n",
       "      <td>Active</td>\n",
       "      <td>brookaa01</td>\n",
       "      <td>file:///Users/alexcheng/Downloads/us.sitesucke...</td>\n",
       "    </tr>\n",
       "    <tr>\n",
       "      <th>2</th>\n",
       "      <td>0.532340</td>\n",
       "      <td>-0.575657</td>\n",
       "      <td>Versatile Forwards</td>\n",
       "      <td>Aaron Gordon</td>\n",
       "      <td>Active</td>\n",
       "      <td>gordoaa01</td>\n",
       "      <td>file:///Users/alexcheng/Downloads/us.sitesucke...</td>\n",
       "    </tr>\n",
       "    <tr>\n",
       "      <th>3</th>\n",
       "      <td>1.502679</td>\n",
       "      <td>0.146058</td>\n",
       "      <td>Versatile Forwards</td>\n",
       "      <td>Adreian Payne</td>\n",
       "      <td>Active</td>\n",
       "      <td>paynead01</td>\n",
       "      <td>file:///Users/alexcheng/Downloads/us.sitesucke...</td>\n",
       "    </tr>\n",
       "    <tr>\n",
       "      <th>4</th>\n",
       "      <td>2.351004</td>\n",
       "      <td>0.469768</td>\n",
       "      <td>Offensive Centers</td>\n",
       "      <td>Al Horford</td>\n",
       "      <td>Active</td>\n",
       "      <td>horfoal01</td>\n",
       "      <td>file:///Users/alexcheng/Downloads/us.sitesucke...</td>\n",
       "    </tr>\n",
       "  </tbody>\n",
       "</table>\n",
       "</div>"
      ],
      "text/plain": [
       "         X1        X2              labels         Player    Status  Player_ID  \\\n",
       "0 -3.721358  0.734826        Combo Guards     A.J. Price  Inactive  priceaj01   \n",
       "1 -3.382158  1.127596        Combo Guards   Aaron Brooks    Active  brookaa01   \n",
       "2  0.532340 -0.575657  Versatile Forwards   Aaron Gordon    Active  gordoaa01   \n",
       "3  1.502679  0.146058  Versatile Forwards  Adreian Payne    Active  paynead01   \n",
       "4  2.351004  0.469768   Offensive Centers     Al Horford    Active  horfoal01   \n",
       "\n",
       "                                                 url  \n",
       "0  file:///Users/alexcheng/Downloads/us.sitesucke...  \n",
       "1  file:///Users/alexcheng/Downloads/us.sitesucke...  \n",
       "2  file:///Users/alexcheng/Downloads/us.sitesucke...  \n",
       "3  file:///Users/alexcheng/Downloads/us.sitesucke...  \n",
       "4  file:///Users/alexcheng/Downloads/us.sitesucke...  "
      ]
     },
     "execution_count": 23,
     "metadata": {},
     "output_type": "execute_result"
    }
   ],
   "source": [
    "df['Player'] = player_list\n",
    "df['Status'] = status_list\n",
    "df['Player_ID'] = playerid_list\n",
    "df['url'] = url_list\n",
    "df['labels'] = df['labels'].map({0: 'Defensive Centers',\n",
    "                                 1: '3-and-D Wings',\n",
    "                                 2: 'Scoring Wings',\n",
    "                                 3: 'Versatile Forwards',\n",
    "                                 4: 'Floor Generals',\n",
    "                                 5: 'Shooting Wings',\n",
    "                                 6: 'Combo Guards',\n",
    "                                 7: 'Offensive Centers'})\n",
    "\n",
    "df.head()"
   ]
  },
  {
   "cell_type": "code",
   "execution_count": 24,
   "metadata": {
    "collapsed": true
   },
   "outputs": [],
   "source": [
    "file1_loc = \"data/positions_14-17.csv\"\n",
    "\n",
    "df.to_csv(file1_loc)"
   ]
  },
  {
   "cell_type": "code",
   "execution_count": null,
   "metadata": {
    "collapsed": true
   },
   "outputs": [],
   "source": []
  }
 ],
 "metadata": {
  "anaconda-cloud": {},
  "kernelspec": {
   "display_name": "Python 3",
   "language": "python",
   "name": "python3"
  },
  "language_info": {
   "codemirror_mode": {
    "name": "ipython",
    "version": 3
   },
   "file_extension": ".py",
   "mimetype": "text/x-python",
   "name": "python",
   "nbconvert_exporter": "python",
   "pygments_lexer": "ipython3",
   "version": "3.7.3"
  }
 },
 "nbformat": 4,
 "nbformat_minor": 1
}
